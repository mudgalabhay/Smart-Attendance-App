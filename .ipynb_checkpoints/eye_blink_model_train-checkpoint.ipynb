{
 "cells": [
  {
   "cell_type": "code",
   "execution_count": 1,
   "metadata": {},
   "outputs": [
    {
     "name": "stderr",
     "output_type": "stream",
     "text": [
      "Using TensorFlow backend.\n"
     ]
    }
   ],
   "source": [
    "import os\n",
    "from PIL import Image\n",
    "import numpy as np\n",
    "import matplotlib.pyplot as plt\n",
    "\n",
    "import tensorflow as tf\n",
    "import PIL\n",
    "import time\n",
    "\n",
    "from keras.callbacks import ModelCheckpoint,TensorBoard\n",
    "\n",
    "from keras.models import Sequential,model_from_json,Model\n",
    "from keras.layers import Conv2D,Input,AveragePooling2D,Flatten,Dense,MaxPooling2D,Activation\n",
    "from keras.preprocessing.image import ImageDataGenerator\n",
    "\n",
    "from scipy.ndimage import imread\n",
    "from scipy.misc import imresize, imsave"
   ]
  },
  {
   "cell_type": "code",
   "execution_count": 2,
   "metadata": {},
   "outputs": [],
   "source": [
    "IMG_SIZE = (24,24)"
   ]
  },
  {
   "cell_type": "code",
   "execution_count": 3,
   "metadata": {},
   "outputs": [],
   "source": [
    "def collect():\n",
    "    train_datagen = ImageDataGenerator(\n",
    "            rescale=1./255,\n",
    "            shear_range=0.2,\n",
    "            horizontal_flip=True, \n",
    "    )\n",
    "\n",
    "    val_datagen = ImageDataGenerator(\n",
    "            rescale=1./255,\n",
    "            shear_range=0.2,\n",
    "            horizontal_flip=True\n",
    "    )\n",
    "\n",
    "    train_generator = train_datagen.flow_from_directory(\n",
    "        directory=\"dataset/train\",\n",
    "        target_size=IMG_SIZE,\n",
    "        color_mode=\"grayscale\",\n",
    "        batch_size=32,\n",
    "        class_mode=\"binary\",\n",
    "        shuffle=True\n",
    "    )\n",
    "\n",
    "    val_generator = val_datagen.flow_from_directory(\n",
    "        directory=\"dataset/val\",\n",
    "        target_size=IMG_SIZE,\n",
    "        color_mode=\"grayscale\",\n",
    "        batch_size=32,\n",
    "        class_mode=\"binary\",\n",
    "        shuffle=True\n",
    "    )\n",
    "    return train_generator, val_generator"
   ]
  },
  {
   "cell_type": "code",
   "execution_count": 3,
   "metadata": {},
   "outputs": [],
   "source": [
    "def load_model():\n",
    "    json_file = open('weights/model.json', 'r')\n",
    "    loaded_model_json = json_file.read()\n",
    "    json_file.close()\n",
    "    loaded_model = model_from_json(loaded_model_json)\n",
    "    # load weights into new model\n",
    "    loaded_model.load_weights(\"weights/model.h5\")\n",
    "    return loaded_model\n",
    "\n",
    "def predict(img, model):\n",
    "    img = Image.fromarray(img, 'RGB').convert('L')\n",
    "    img = imresize(img, (24,24)).astype('float32')\n",
    "    img /= 255\n",
    "    img = img.reshape(1,24,24,1)\n",
    "    prediction = model.predict(img)\n",
    "    if prediction < 0.4:\n",
    "        prediction = 'closed'\n",
    "    elif prediction > 0.6:\n",
    "        prediction = 'open'\n",
    "    else:\n",
    "        prediction = 'idk'\n",
    "    return prediction\n",
    "\n",
    "def evaluate(X_test, y_test):\n",
    "    model = load_model()\n",
    "    print('Evaluate model')\n",
    "    loss, acc = model.evaluate(X_test, y_test, verbose = 0)\n",
    "    print(acc * 100)"
   ]
  },
  {
   "cell_type": "code",
   "execution_count": 6,
   "metadata": {},
   "outputs": [
    {
     "name": "stdout",
     "output_type": "stream",
     "text": [
      "Found 4360 images belonging to 2 classes.\n",
      "Found 486 images belonging to 2 classes.\n"
     ]
    }
   ],
   "source": [
    "train_generator , val_generator = collect()"
   ]
  },
  {
   "cell_type": "code",
   "execution_count": 7,
   "metadata": {},
   "outputs": [
    {
     "data": {
      "text/plain": [
       "(24, 24, 1)"
      ]
     },
     "execution_count": 7,
     "metadata": {},
     "output_type": "execute_result"
    }
   ],
   "source": [
    "train_generator.image_shape"
   ]
  },
  {
   "cell_type": "code",
   "execution_count": 8,
   "metadata": {},
   "outputs": [
    {
     "name": "stdout",
     "output_type": "stream",
     "text": [
      "WARNING:tensorflow:From D:\\programs\\anaconda\\envs\\dl\\lib\\site-packages\\tensorflow\\python\\framework\\op_def_library.py:263: colocate_with (from tensorflow.python.framework.ops) is deprecated and will be removed in a future version.\n",
      "Instructions for updating:\n",
      "Colocations handled automatically by placer.\n",
      "_________________________________________________________________\n",
      "Layer (type)                 Output Shape              Param #   \n",
      "=================================================================\n",
      "input_1 (InputLayer)         (None, 24, 24, 1)         0         \n",
      "_________________________________________________________________\n",
      "conv2d_1 (Conv2D)            (None, 24, 24, 32)        320       \n",
      "_________________________________________________________________\n",
      "max_pooling2d_1 (MaxPooling2 (None, 12, 12, 32)        0         \n",
      "_________________________________________________________________\n",
      "conv2d_2 (Conv2D)            (None, 12, 12, 64)        18496     \n",
      "_________________________________________________________________\n",
      "max_pooling2d_2 (MaxPooling2 (None, 6, 6, 64)          0         \n",
      "_________________________________________________________________\n",
      "conv2d_3 (Conv2D)            (None, 6, 6, 128)         73856     \n",
      "_________________________________________________________________\n",
      "max_pooling2d_3 (MaxPooling2 (None, 3, 3, 128)         0         \n",
      "_________________________________________________________________\n",
      "flatten_1 (Flatten)          (None, 1152)              0         \n",
      "_________________________________________________________________\n",
      "dense_1 (Dense)              (None, 512)               590336    \n",
      "_________________________________________________________________\n",
      "activation_1 (Activation)    (None, 512)               0         \n",
      "_________________________________________________________________\n",
      "dense_2 (Dense)              (None, 128)               65664     \n",
      "_________________________________________________________________\n",
      "activation_2 (Activation)    (None, 128)               0         \n",
      "_________________________________________________________________\n",
      "dense_3 (Dense)              (None, 1)                 129       \n",
      "_________________________________________________________________\n",
      "activation_3 (Activation)    (None, 1)                 0         \n",
      "=================================================================\n",
      "Total params: 748,801\n",
      "Trainable params: 748,801\n",
      "Non-trainable params: 0\n",
      "_________________________________________________________________\n"
     ]
    }
   ],
   "source": [
    "inputs = Input(shape=(24, 24, 1))\n",
    "\n",
    "net = Conv2D(32, kernel_size=3, strides=1, padding='same', activation='relu')(inputs)\n",
    "net = MaxPooling2D(pool_size=2)(net)\n",
    "\n",
    "net = Conv2D(64, kernel_size=3, strides=1, padding='same', activation='relu')(net)\n",
    "net = MaxPooling2D(pool_size=2)(net)\n",
    "\n",
    "net = Conv2D(128, kernel_size=3, strides=1, padding='same', activation='relu')(net)\n",
    "net = MaxPooling2D(pool_size=2)(net)\n",
    "\n",
    "net = Flatten()(net)\n",
    "\n",
    "net = Dense(512)(net)\n",
    "net = Activation('relu')(net)\n",
    "net = Dense(128)(net)\n",
    "net = Activation('relu')(net)\n",
    "net = Dense(1)(net)\n",
    "outputs = Activation('sigmoid')(net)\n",
    "\n",
    "model = Model(inputs=inputs, outputs=outputs)\n",
    "\n",
    "model.compile(optimizer='adam', loss='binary_crossentropy', metrics=['acc'])\n",
    "\n",
    "model.summary()"
   ]
  },
  {
   "cell_type": "code",
   "execution_count": 9,
   "metadata": {},
   "outputs": [],
   "source": [
    "from keras import optimizers\n",
    "model.compile(optimizer='adam', loss='binary_crossentropy', metrics=['acc'])"
   ]
  },
  {
   "cell_type": "code",
   "execution_count": 10,
   "metadata": {},
   "outputs": [],
   "source": [
    "checkpoint = ModelCheckpoint(\"weights/model_best.hdf5\",monitor='val_acc',verbose=1,save_best_only=True,mode='auto')"
   ]
  },
  {
   "cell_type": "code",
   "execution_count": 11,
   "metadata": {},
   "outputs": [
    {
     "name": "stdout",
     "output_type": "stream",
     "text": [
      "WARNING:tensorflow:From D:\\programs\\anaconda\\envs\\dl\\lib\\site-packages\\tensorflow\\python\\ops\\math_ops.py:3066: to_int32 (from tensorflow.python.ops.math_ops) is deprecated and will be removed in a future version.\n",
      "Instructions for updating:\n",
      "Use tf.cast instead.\n",
      "Epoch 1/20\n",
      "136/136 [==============================] - 38s 277ms/step - loss: 0.4612 - acc: 0.7521 - val_loss: 0.3408 - val_acc: 0.8292\n",
      "\n",
      "Epoch 00001: val_acc improved from -inf to 0.82917, saving model to weights/model_best.hdf5\n",
      "Epoch 2/20\n",
      "136/136 [==============================] - 7s 49ms/step - loss: 0.1841 - acc: 0.9290 - val_loss: 0.1134 - val_acc: 0.9648\n",
      "\n",
      "Epoch 00002: val_acc improved from 0.82917 to 0.96476, saving model to weights/model_best.hdf5\n",
      "Epoch 3/20\n",
      "136/136 [==============================] - 7s 50ms/step - loss: 0.1665 - acc: 0.9393 - val_loss: 0.1195 - val_acc: 0.9670\n",
      "\n",
      "Epoch 00003: val_acc improved from 0.96476 to 0.96696, saving model to weights/model_best.hdf5\n",
      "Epoch 4/20\n",
      "136/136 [==============================] - 7s 52ms/step - loss: 0.1258 - acc: 0.9547 - val_loss: 0.1012 - val_acc: 0.9670\n",
      "\n",
      "Epoch 00004: val_acc did not improve from 0.96696\n",
      "Epoch 5/20\n",
      "136/136 [==============================] - 7s 51ms/step - loss: 0.1013 - acc: 0.9648 - val_loss: 0.1321 - val_acc: 0.9405\n",
      "\n",
      "Epoch 00005: val_acc did not improve from 0.96696\n",
      "Epoch 6/20\n",
      "136/136 [==============================] - 7s 49ms/step - loss: 0.0994 - acc: 0.9630 - val_loss: 0.1134 - val_acc: 0.9515\n",
      "\n",
      "Epoch 00006: val_acc did not improve from 0.96696\n",
      "Epoch 7/20\n",
      "136/136 [==============================] - 7s 51ms/step - loss: 0.1018 - acc: 0.9609 - val_loss: 0.1089 - val_acc: 0.9581\n",
      "\n",
      "Epoch 00007: val_acc did not improve from 0.96696\n",
      "Epoch 8/20\n",
      "136/136 [==============================] - 7s 50ms/step - loss: 0.0841 - acc: 0.9690 - val_loss: 0.0868 - val_acc: 0.9692\n",
      "\n",
      "Epoch 00008: val_acc improved from 0.96696 to 0.96916, saving model to weights/model_best.hdf5\n",
      "Epoch 9/20\n",
      "136/136 [==============================] - 7s 50ms/step - loss: 0.0863 - acc: 0.9674 - val_loss: 0.0845 - val_acc: 0.9581\n",
      "\n",
      "Epoch 00009: val_acc did not improve from 0.96916\n",
      "Epoch 10/20\n",
      "136/136 [==============================] - 7s 50ms/step - loss: 0.0768 - acc: 0.9713 - val_loss: 0.1389 - val_acc: 0.9471\n",
      "\n",
      "Epoch 00010: val_acc did not improve from 0.96916\n",
      "Epoch 11/20\n",
      "136/136 [==============================] - 6s 47ms/step - loss: 0.0793 - acc: 0.9706 - val_loss: 0.0985 - val_acc: 0.9758\n",
      "\n",
      "Epoch 00011: val_acc improved from 0.96916 to 0.97577, saving model to weights/model_best.hdf5\n",
      "Epoch 12/20\n",
      "136/136 [==============================] - 7s 49ms/step - loss: 0.0728 - acc: 0.9724 - val_loss: 0.0809 - val_acc: 0.9670\n",
      "\n",
      "Epoch 00012: val_acc did not improve from 0.97577\n",
      "Epoch 13/20\n",
      "136/136 [==============================] - 7s 50ms/step - loss: 0.0705 - acc: 0.9729 - val_loss: 0.1253 - val_acc: 0.9537\n",
      "\n",
      "Epoch 00013: val_acc did not improve from 0.97577\n",
      "Epoch 14/20\n",
      "136/136 [==============================] - 7s 49ms/step - loss: 0.0642 - acc: 0.9722 - val_loss: 0.0999 - val_acc: 0.9626\n",
      "\n",
      "Epoch 00014: val_acc did not improve from 0.97577\n",
      "Epoch 15/20\n",
      "136/136 [==============================] - 7s 49ms/step - loss: 0.0617 - acc: 0.9768 - val_loss: 0.0671 - val_acc: 0.9736\n",
      "\n",
      "Epoch 00015: val_acc did not improve from 0.97577\n",
      "Epoch 16/20\n",
      "136/136 [==============================] - 7s 48ms/step - loss: 0.0602 - acc: 0.9777 - val_loss: 0.1119 - val_acc: 0.9537\n",
      "\n",
      "Epoch 00016: val_acc did not improve from 0.97577\n",
      "Epoch 17/20\n",
      "136/136 [==============================] - 6s 47ms/step - loss: 0.0662 - acc: 0.9745 - val_loss: 0.1166 - val_acc: 0.9563\n",
      "\n",
      "Epoch 00017: val_acc did not improve from 0.97577\n",
      "Epoch 18/20\n",
      "136/136 [==============================] - 7s 48ms/step - loss: 0.0446 - acc: 0.9809 - val_loss: 0.1139 - val_acc: 0.9736\n",
      "\n",
      "Epoch 00018: val_acc did not improve from 0.97577\n",
      "Epoch 19/20\n",
      "136/136 [==============================] - 7s 48ms/step - loss: 0.0522 - acc: 0.9786 - val_loss: 0.0931 - val_acc: 0.9670\n",
      "\n",
      "Epoch 00019: val_acc did not improve from 0.97577\n",
      "Epoch 20/20\n",
      "136/136 [==============================] - 7s 52ms/step - loss: 0.0444 - acc: 0.9844 - val_loss: 0.1460 - val_acc: 0.9537\n",
      "\n",
      "Epoch 00020: val_acc did not improve from 0.97577\n"
     ]
    }
   ],
   "source": [
    "# Train the model\n",
    "history = model.fit_generator(\n",
    "      train_generator,\n",
    "      steps_per_epoch=train_generator.samples//train_generator.batch_size ,\n",
    "      epochs=20,\n",
    "      validation_data=val_generator,\n",
    "      validation_steps=val_generator.samples//val_generator.batch_size,\n",
    "      callbacks=[checkpoint],\n",
    "      verbose=1)\n",
    "model.save('weights/model.h5')"
   ]
  },
  {
   "cell_type": "code",
   "execution_count": 12,
   "metadata": {},
   "outputs": [],
   "source": [
    "# serialize model to JSON\n",
    "model_json = model.to_json()\n",
    "with open(\"weights/model.json\", \"w\") as json_file:\n",
    "    json_file.write(model_json)"
   ]
  },
  {
   "cell_type": "code",
   "execution_count": 13,
   "metadata": {},
   "outputs": [],
   "source": [
    "import matplotlib.pyplot as plt"
   ]
  },
  {
   "cell_type": "code",
   "execution_count": 14,
   "metadata": {},
   "outputs": [
    {
     "data": {
      "image/png": "[encoded data removed]",
      "text/plain": [
       "<Figure size 432x288 with 1 Axes>"
      ]
     },
     "metadata": {
      "needs_background": "light"
     },
     "output_type": "display_data"
    },
    {
     "data": {
      "image/png": "[encoded data removed]",
      "text/plain": [
       "<Figure size 432x288 with 1 Axes>"
      ]
     },
     "metadata": {
      "needs_background": "light"
     },
     "output_type": "display_data"
    }
   ],
   "source": [
    "acc = history.history['acc']\n",
    "val_acc = history.history['val_acc']\n",
    "loss = history.history['loss']\n",
    "val_loss = history.history['val_loss']\n",
    " \n",
    "epochs = range(len(acc))\n",
    " \n",
    "plt.plot(epochs, acc, 'b', label='Training acc')\n",
    "plt.plot(epochs, val_acc, 'r', label='Validation acc')\n",
    "plt.title('Training and validation accuracy')\n",
    "plt.legend()\n",
    " \n",
    "plt.figure()\n",
    " \n",
    "plt.plot(epochs, loss, 'b', label='Training loss')\n",
    "plt.plot(epochs, val_loss, 'r', label='Validation loss')\n",
    "plt.title('Training and validation loss')\n",
    "plt.legend()\n",
    " \n",
    "plt.show()"
   ]
  },
  {
   "cell_type": "markdown",
   "metadata": {},
   "source": [
    "## Test Set"
   ]
  },
  {
   "cell_type": "code",
   "execution_count": null,
   "metadata": {},
   "outputs": [],
   "source": [
    "# # load json and create model\n",
    "# json_file = open('weights/VGG16/VGG16_model.json', 'r')\n",
    "# loaded_model_json = json_file.read()\n",
    "# json_file.close()\n",
    "# loaded_model = model_from_json(loaded_model_json)\n",
    "# # load weights into new model\n",
    "# loaded_model.load_weights(\"weights/VGG16/vgg16_best.hdf5\")\n",
    "# print(\"Loaded model from disk\")"
   ]
  },
  {
   "cell_type": "code",
   "execution_count": 4,
   "metadata": {},
   "outputs": [
    {
     "name": "stdout",
     "output_type": "stream",
     "text": [
      "WARNING:tensorflow:From d:\\anaconda\\envs\\dl-3.6\\lib\\site-packages\\tensorflow\\python\\framework\\op_def_library.py:263: colocate_with (from tensorflow.python.framework.ops) is deprecated and will be removed in a future version.\n",
      "Instructions for updating:\n",
      "Colocations handled automatically by placer.\n"
     ]
    }
   ],
   "source": [
    "model = load_model()"
   ]
  },
  {
   "cell_type": "code",
   "execution_count": 5,
   "metadata": {},
   "outputs": [
    {
     "name": "stdout",
     "output_type": "stream",
     "text": [
      "_________________________________________________________________\n",
      "Layer (type)                 Output Shape              Param #   \n",
      "=================================================================\n",
      "input_1 (InputLayer)         (None, 24, 24, 1)         0         \n",
      "_________________________________________________________________\n",
      "conv2d_1 (Conv2D)            (None, 24, 24, 32)        320       \n",
      "_________________________________________________________________\n",
      "max_pooling2d_1 (MaxPooling2 (None, 12, 12, 32)        0         \n",
      "_________________________________________________________________\n",
      "conv2d_2 (Conv2D)            (None, 12, 12, 64)        18496     \n",
      "_________________________________________________________________\n",
      "max_pooling2d_2 (MaxPooling2 (None, 6, 6, 64)          0         \n",
      "_________________________________________________________________\n",
      "conv2d_3 (Conv2D)            (None, 6, 6, 128)         73856     \n",
      "_________________________________________________________________\n",
      "max_pooling2d_3 (MaxPooling2 (None, 3, 3, 128)         0         \n",
      "_________________________________________________________________\n",
      "flatten_1 (Flatten)          (None, 1152)              0         \n",
      "_________________________________________________________________\n",
      "dense_1 (Dense)              (None, 512)               590336    \n",
      "_________________________________________________________________\n",
      "activation_1 (Activation)    (None, 512)               0         \n",
      "_________________________________________________________________\n",
      "dense_2 (Dense)              (None, 128)               65664     \n",
      "_________________________________________________________________\n",
      "activation_2 (Activation)    (None, 128)               0         \n",
      "_________________________________________________________________\n",
      "dense_3 (Dense)              (None, 1)                 129       \n",
      "_________________________________________________________________\n",
      "activation_3 (Activation)    (None, 1)                 0         \n",
      "=================================================================\n",
      "Total params: 748,801\n",
      "Trainable params: 748,801\n",
      "Non-trainable params: 0\n",
      "_________________________________________________________________\n"
     ]
    }
   ],
   "source": [
    "model.summary()"
   ]
  },
  {
   "cell_type": "code",
   "execution_count": null,
   "metadata": {},
   "outputs": [],
   "source": []
  },
  {
   "cell_type": "code",
   "execution_count": null,
   "metadata": {},
   "outputs": [],
   "source": []
  },
  {
   "cell_type": "code",
   "execution_count": null,
   "metadata": {},
   "outputs": [],
   "source": []
  },
  {
   "cell_type": "code",
   "execution_count": 6,
   "metadata": {},
   "outputs": [],
   "source": [
    "import glob\n",
    "import shutil\n",
    "import os\n",
    "import numpy as np\n",
    "import PIL\n",
    "import shutil\n",
    "import cv2"
   ]
  },
  {
   "cell_type": "code",
   "execution_count": 7,
   "metadata": {},
   "outputs": [
    {
     "data": {
      "text/plain": [
       "247"
      ]
     },
     "execution_count": 7,
     "metadata": {},
     "output_type": "execute_result"
    }
   ],
   "source": [
    "dirs=os.listdir('dataset/val/open')\n",
    "len(dirs)"
   ]
  },
  {
   "cell_type": "code",
   "execution_count": 9,
   "metadata": {},
   "outputs": [
    {
     "name": "stdout",
     "output_type": "stream",
     "text": [
      "closed [[0.17284441]] dataset/val/open/Alfredo_di_Stefano_0001_L.jpg\n",
      "closed [[0.00057133]] dataset/val/open/Alina_Kabaeva_0001_R.jpg\n",
      "closed [[0.00556991]] dataset/val/open/Andre_Lange_0001_L.jpg\n",
      "closed [[0.07425657]] dataset/val/open/Barbara_Esbin_0001_R.jpg\n",
      "closed [[0.07520666]] dataset/val/open/Barry_Switzer_0001_R.jpg\n",
      "closed [[0.2150653]] dataset/val/open/Ben_Chandler_0001_R.jpg\n",
      "closed [[0.44936937]] dataset/val/open/George_HW_Bush_0001_R.jpg\n",
      "closed [[0.20780395]] dataset/val/open/Ralph_Friedgen_0001_R.jpg\n",
      "closed [[0.01014532]] dataset/val/open/Valentino_Rossi_0001_L.jpg\n"
     ]
    }
   ],
   "source": [
    "error = 0\n",
    "for dir in dirs:\n",
    "    img_path = 'dataset/val/open/'+dir\n",
    "    #path='dataset/test/close/closed_eye_0_0_0_0_0_01 (14).jpg'\n",
    "    image = cv2.imread(img_path,cv2.IMREAD_GRAYSCALE)\n",
    "    image = cv2.resize(image, (24,24), interpolation = cv2.INTER_AREA).astype('float32')\n",
    "    image /= 255\n",
    "    # plt.imshow(image,cmap = plt.cm.gray)\n",
    "    reshape_image = image.reshape(1,24,24,1)\n",
    "    prediction = model.predict(reshape_image)\n",
    "    output = \"\"\n",
    "    if prediction < 0.5:\n",
    "        output = 'closed'\n",
    "    elif prediction > 0.5:\n",
    "        output = 'open'\n",
    "    else:\n",
    "        output = 'idk'\n",
    "    if output!='open':\n",
    "        error+=1\n",
    "        print(output,prediction,img_path)"
   ]
  },
  {
   "cell_type": "code",
   "execution_count": 10,
   "metadata": {},
   "outputs": [
    {
     "data": {
      "text/plain": [
       "9"
      ]
     },
     "execution_count": 10,
     "metadata": {},
     "output_type": "execute_result"
    }
   ],
   "source": [
    "error"
   ]
  },
  {
   "cell_type": "code",
   "execution_count": 11,
   "metadata": {},
   "outputs": [],
   "source": [
    "def predict(img_path, model):\n",
    "    image = cv2.imread(img_path,cv2.IMREAD_GRAYSCALE)\n",
    "    image = cv2.resize(image, (24,24), interpolation = cv2.INTER_AREA).astype('float32')\n",
    "    image /= 255\n",
    "    plt.imshow(image,cmap = plt.cm.gray)\n",
    "    reshape_image = image.reshape(1,24,24,1)\n",
    "    prediction = model.predict(reshape_image).reshape(-1)[0]\n",
    "    output = \"\"\n",
    "    if prediction < 0.5:\n",
    "        output = 'closed'\n",
    "    elif prediction > 0.5:\n",
    "        output = 'open'\n",
    "    else:\n",
    "        output = 'idk'\n",
    "    print(output,prediction)"
   ]
  },
  {
   "cell_type": "code",
   "execution_count": 14,
   "metadata": {},
   "outputs": [
    {
     "name": "stdout",
     "output_type": "stream",
     "text": [
      "closed 6.6769576e-06\n"
     ]
    },
    {
     "data": {
      "image/png": "[encoded data removed]",
      "text/plain": [
       "<Figure size 432x288 with 1 Axes>"
      ]
     },
     "metadata": {
      "needs_background": "light"
     },
     "output_type": "display_data"
    }
   ],
   "source": [
    "predict('dataset/val/closed/closed_eye_0077.jpg_face_1_L.jpg',model)"
   ]
  },
  {
   "cell_type": "code",
   "execution_count": null,
   "metadata": {},
   "outputs": [],
   "source": []
  },
  {
   "cell_type": "code",
   "execution_count": null,
   "metadata": {},
   "outputs": [],
   "source": []
  },
  {
   "cell_type": "code",
   "execution_count": null,
   "metadata": {},
   "outputs": [],
   "source": []
  },
  {
   "cell_type": "code",
   "execution_count": null,
   "metadata": {},
   "outputs": [],
   "source": []
  },
  {
   "cell_type": "code",
   "execution_count": null,
   "metadata": {},
   "outputs": [],
   "source": []
  },
  {
   "cell_type": "code",
   "execution_count": null,
   "metadata": {},
   "outputs": [],
   "source": []
  },
  {
   "cell_type": "code",
   "execution_count": null,
   "metadata": {},
   "outputs": [],
   "source": []
  },
  {
   "cell_type": "code",
   "execution_count": null,
   "metadata": {},
   "outputs": [],
   "source": []
  },
  {
   "cell_type": "code",
   "execution_count": null,
   "metadata": {},
   "outputs": [],
   "source": []
  },
  {
   "cell_type": "code",
   "execution_count": null,
   "metadata": {},
   "outputs": [],
   "source": []
  },
  {
   "cell_type": "code",
   "execution_count": null,
   "metadata": {},
   "outputs": [],
   "source": []
  },
  {
   "cell_type": "code",
   "execution_count": null,
   "metadata": {},
   "outputs": [],
   "source": []
  },
  {
   "cell_type": "code",
   "execution_count": null,
   "metadata": {},
   "outputs": [],
   "source": []
  },
  {
   "cell_type": "code",
   "execution_count": null,
   "metadata": {},
   "outputs": [],
   "source": []
  },
  {
   "cell_type": "code",
   "execution_count": null,
   "metadata": {},
   "outputs": [],
   "source": []
  },
  {
   "cell_type": "code",
   "execution_count": null,
   "metadata": {},
   "outputs": [],
   "source": []
  },
  {
   "cell_type": "code",
   "execution_count": null,
   "metadata": {},
   "outputs": [],
   "source": []
  },
  {
   "cell_type": "code",
   "execution_count": null,
   "metadata": {},
   "outputs": [],
   "source": []
  },
  {
   "cell_type": "code",
   "execution_count": null,
   "metadata": {},
   "outputs": [],
   "source": []
  },
  {
   "cell_type": "code",
   "execution_count": null,
   "metadata": {},
   "outputs": [],
   "source": []
  },
  {
   "cell_type": "code",
   "execution_count": null,
   "metadata": {},
   "outputs": [],
   "source": []
  },
  {
   "cell_type": "code",
   "execution_count": null,
   "metadata": {},
   "outputs": [],
   "source": []
  },
  {
   "cell_type": "code",
   "execution_count": null,
   "metadata": {},
   "outputs": [],
   "source": []
  },
  {
   "cell_type": "code",
   "execution_count": null,
   "metadata": {},
   "outputs": [],
   "source": []
  },
  {
   "cell_type": "code",
   "execution_count": null,
   "metadata": {},
   "outputs": [],
   "source": []
  },
  {
   "cell_type": "code",
   "execution_count": null,
   "metadata": {},
   "outputs": [],
   "source": []
  },
  {
   "cell_type": "code",
   "execution_count": null,
   "metadata": {},
   "outputs": [],
   "source": []
  }
 ],
 "metadata": {
  "kernelspec": {
   "display_name": "Python 3",
   "language": "python",
   "name": "python3"
  },
  "language_info": {
   "codemirror_mode": {
    "name": "ipython",
    "version": 3
   },
   "file_extension": ".py",
   "mimetype": "text/x-python",
   "name": "python",
   "nbconvert_exporter": "python",
   "pygments_lexer": "ipython3",
   "version": "3.6.5"
  }
 },
 "nbformat": 4,
 "nbformat_minor": 2
}
