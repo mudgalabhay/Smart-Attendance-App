{
 "cells": [
  {
   "cell_type": "code",
   "execution_count": null,
   "metadata": {},
   "outputs": [],
   "source": [
    "import os\n",
    "from PIL import Image\n",
    "import numpy as np\n",
    "import matplotlib.pyplot as plt\n",
    "\n",
    "import tensorflow as tf\n",
    "import PIL\n",
    "import time\n",
    "\n",
    "from keras.callbacks import ModelCheckpoint,TensorBoard\n",
    "\n",
    "from keras.models import Sequential,model_from_json,Model\n",
    "from keras.layers import Conv2D,Input,AveragePooling2D,Flatten,Dense,MaxPooling2D,Activation\n",
    "from keras.preprocessing.image import ImageDataGenerator\n",
    "\n",
    "from scipy.ndimage import imread\n",
    "from scipy.misc import imresize, imsave"
   ]
  },
  {
   "cell_type": "code",
   "execution_count": null,
   "metadata": {},
   "outputs": [],
   "source": [
    "IMG_SIZE = (24,24)"
   ]
  },
  {
   "cell_type": "code",
   "execution_count": null,
   "metadata": {},
   "outputs": [],
   "source": [
    "def load_model():\n",
    "    json_file = open('weights/model.json', 'r')\n",
    "    loaded_model_json = json_file.read()\n",
    "    json_file.close()\n",
    "    loaded_model = model_from_json(loaded_model_json)\n",
    "    # load weights into new model\n",
    "    loaded_model.load_weights(\"weights/model.h5\")\n",
    "    return loaded_model"
   ]
  },
  {
   "cell_type": "code",
   "execution_count": null,
   "metadata": {},
   "outputs": [],
   "source": [
    "model = load_model()"
   ]
  },
  {
   "cell_type": "code",
   "execution_count": null,
   "metadata": {},
   "outputs": [],
   "source": [
    "model.summary()"
   ]
  },
  {
   "cell_type": "code",
   "execution_count": null,
   "metadata": {},
   "outputs": [],
   "source": []
  },
  {
   "cell_type": "code",
   "execution_count": null,
   "metadata": {},
   "outputs": [],
   "source": [
    "import glob\n",
    "import shutil\n",
    "import os\n",
    "import numpy as np\n",
    "import PIL\n",
    "import shutil\n",
    "import cv2"
   ]
  },
  {
   "cell_type": "code",
   "execution_count": null,
   "metadata": {},
   "outputs": [],
   "source": [
    "dirs=os.listdir('dataset/eye annotate/labelled/close')\n",
    "len(dirs)"
   ]
  },
  {
   "cell_type": "code",
   "execution_count": null,
   "metadata": {},
   "outputs": [],
   "source": [
    "error = 0\n",
    "for dir in dirs:\n",
    "    img_path = 'dataset/eye annotate/labelled/close/'+dir\n",
    "    #path='dataset/test/close/closed_eye_0_0_0_0_0_01 (14).jpg'\n",
    "    image = cv2.imread(img_path,cv2.IMREAD_GRAYSCALE)\n",
    "    image = cv2.resize(image, (24,24), interpolation = cv2.INTER_AREA).astype('float32')\n",
    "    image /= 255\n",
    "    # plt.imshow(image,cmap = plt.cm.gray)\n",
    "    reshape_image = image.reshape(1,24,24,1)\n",
    "    prediction = model.predict(reshape_image)\n",
    "    output = \"\"\n",
    "    if prediction < 0.5:\n",
    "        output = 'closed'\n",
    "    elif prediction > 0.5:\n",
    "        output = 'open'\n",
    "    else:\n",
    "        output = 'idk'\n",
    "    if output!='closed':\n",
    "        error+=1\n",
    "        #plt.imshow(image,cmap = plt.cm.gray)\n",
    "        #print(output,prediction,img_path)"
   ]
  },
  {
   "cell_type": "code",
   "execution_count": null,
   "metadata": {},
   "outputs": [],
   "source": [
    "error"
   ]
  },
  {
   "cell_type": "code",
   "execution_count": null,
   "metadata": {},
   "outputs": [],
   "source": [
    "def predict(img_path, model):\n",
    "    image = cv2.imread(img_path,cv2.IMREAD_GRAYSCALE)\n",
    "    image = cv2.resize(image, (24,24), interpolation = cv2.INTER_AREA).astype('float32')\n",
    "    image /= 255\n",
    "    plt.imshow(image,cmap = plt.cm.gray)\n",
    "    reshape_image = image.reshape(1,24,24,1)\n",
    "    prediction = model.predict(reshape_image).reshape(-1)[0]\n",
    "    output = \"\"\n",
    "    if prediction < 0.5:\n",
    "        output = 'closed'\n",
    "    elif prediction > 0.5:\n",
    "        output = 'open'\n",
    "    else:\n",
    "        output = 'idk'\n",
    "    print(output,prediction)"
   ]
  },
  {
   "cell_type": "code",
   "execution_count": null,
   "metadata": {},
   "outputs": [],
   "source": [
    "predict('dataset/eye annotate/labelled/open/s0012_05401_0_0_1_2_1_03.png',model)"
   ]
  },
  {
   "cell_type": "code",
   "execution_count": null,
   "metadata": {},
   "outputs": [],
   "source": []
  },
  {
   "cell_type": "code",
   "execution_count": null,
   "metadata": {},
   "outputs": [],
   "source": []
  },
  {
   "cell_type": "code",
   "execution_count": null,
   "metadata": {},
   "outputs": [],
   "source": []
  }
 ],
 "metadata": {
  "kernelspec": {
   "display_name": "Python 3",
   "language": "python",
   "name": "python3"
  },
  "language_info": {
   "codemirror_mode": {
    "name": "ipython",
    "version": 3
   },
   "file_extension": ".py",
   "mimetype": "text/x-python",
   "name": "python",
   "nbconvert_exporter": "python",
   "pygments_lexer": "ipython3",
   "version": "3.6.5"
  }
 },
 "nbformat": 4,
 "nbformat_minor": 2
}
