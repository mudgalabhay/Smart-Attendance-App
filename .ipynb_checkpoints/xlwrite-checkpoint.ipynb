{
 "cells": [
  {
   "cell_type": "code",
   "execution_count": 3,
   "metadata": {},
   "outputs": [],
   "source": [
    "import xlwt;\n",
    "from datetime import datetime;\n",
    "from xlrd import open_workbook;\n",
    "from xlwt import Workbook;\n",
    "from xlutils.copy import copy\n",
    "from pathlib import Path"
   ]
  },
  {
   "cell_type": "code",
   "execution_count": 5,
   "metadata": {},
   "outputs": [],
   "source": [
    "def output(filename, sheet,num, name, present):\n",
    "    my_file = Path('firebase/attendance_files/'+filename+str(datetime.now().date())+'.xls');\n",
    "    if my_file.is_file():\n",
    "        rb = open_workbook('firebase/attendance_files/'+filename+str(datetime.now().date())+'.xls');\n",
    "        book = copy(rb);\n",
    "        sh = book.get_sheet(0)\n",
    "        # file exists\n",
    "    else:\n",
    "        book = xlwt.Workbook()\n",
    "        sh = book.add_sheet(sheet)\n",
    "    style0 = xlwt.easyxf('font: name Times New Roman, color-index red, bold on',\n",
    "                         num_format_str='#,##0.00')\n",
    "    style1 = xlwt.easyxf(num_format_str='D-MMM-YY')\n",
    "\n",
    "    #variables = [x, y, z]\n",
    "    #x_desc = 'Display'\n",
    "    #y_desc = 'Dominance'\n",
    "    #z_desc = 'Test'\n",
    "    #desc = [x_desc, y_desc, z_desc]\n",
    "    sh.write(0,0,datetime.now().date(),style1);\n",
    "\n",
    "\n",
    "    col1_name = 'Name'\n",
    "    col2_name = 'Present'\n",
    "\n",
    "\n",
    "    sh.write(1,0,col1_name,style0);\n",
    "    sh.write(1, 1, col2_name,style0);\n",
    "\n",
    "    sh.write(num+1,0,name);\n",
    "    sh.write(num+1, 1, present);\n",
    "    #You may need to group the variables together\n",
    "    #for n, (v_desc, v) in enumerate(zip(desc, variables)):\n",
    "    fullname=filename+str(datetime.now().date())+'.xls';\n",
    "    book.save('firebase/attendance_files/'+fullname)\n",
    "    return fullname;"
   ]
  },
  {
   "cell_type": "code",
   "execution_count": null,
   "metadata": {},
   "outputs": [],
   "source": []
  }
 ],
 "metadata": {
  "kernelspec": {
   "display_name": "Python 3",
   "language": "python",
   "name": "python3"
  },
  "language_info": {
   "codemirror_mode": {
    "name": "ipython",
    "version": 3
   },
   "file_extension": ".py",
   "mimetype": "text/x-python",
   "name": "python",
   "nbconvert_exporter": "python",
   "pygments_lexer": "ipython3",
   "version": "3.6.5"
  }
 },
 "nbformat": 4,
 "nbformat_minor": 2
}
